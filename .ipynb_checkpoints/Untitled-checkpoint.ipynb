{
 "cells": [
  {
   "cell_type": "markdown",
   "metadata": {},
   "source": [
    "# Final Project Group Generator\n",
    "\n",
    "In the effort to be fair, nobody gets to pick the groups. Not even the TAs or Instructor! Instead, a little bit of code will make the groups."
   ]
  },
  {
   "cell_type": "code",
   "execution_count": 1,
   "metadata": {},
   "outputs": [],
   "source": [
    "import random"
   ]
  },
  {
   "cell_type": "markdown",
   "metadata": {},
   "source": [
    "First, we import random, then, just so we can repeat the results, we set the seed to some value. For choosing groups for this semester, I used 75012. Give yourself a Schrute Buck if you can figure out what that number is."
   ]
  },
  {
   "cell_type": "code",
   "execution_count": 2,
   "metadata": {},
   "outputs": [],
   "source": [
    "random.seed(75012)"
   ]
  },
  {
   "cell_type": "markdown",
   "metadata": {},
   "source": [
    "From here, I make lists of all the students who reported their lab sections. Then I made a group of the remaning students, for a total of 5 groups."
   ]
  },
  {
   "cell_type": "code",
   "execution_count": 3,
   "metadata": {},
   "outputs": [],
   "source": [
    "alexalab = ['Toluwalase Ahmed','Garett Barber','William Chapler','Alejandro Ciuba','Kevin Corcoran','Joe Fayad','Robert Fishel',\n",
    "            'Cade Gallagher','Samuel Garthwaite','Richard Goulazian','Samantha Grammer','Anna Heltz','Justin Holt','Ben Hrehocik',\n",
    "            'Noah Kenton','Siomon Kioko','Jacob Kopco','Crystal Li','Siliang Lihuang','Julia Livingston','Vivian Ly',\n",
    "            'Daniel Mezhinsky','Pasiphique Osward','Liying Qin','Jeremy Romano','Leigh Salvucci','Bailey Smith','Khailil Tookas',\n",
    "            'Benjamin Truckenbrod','LeAndre Washington','Carson White','Tian Xie','Lily Young','Xingjian Zhang']\n",
    "benlab = ['Heath Arroyo','Suchi Attota','Justin Booth','Isaac Bredbenner','Dominic Campese','William Crew','Vansh Desai',\n",
    "         'Alexis DiNardo','Matthew Dodson','Jessica Flynn','Kevin Fung','Jamir Grier','Gaige Hailey','Michael Harouse',\n",
    "         'Jacob Hill','Steven Jarmell','Andrea Jiang','Griffin Jordan','Kameron Langford','Evan Marnik','Ben Mast',\n",
    "         'Praj Perez','Joh Riklan','Matthew Ross','Michael Schafer','Connor Sibley','Trever Silverman','Elizabeth Taylor',\n",
    "         'Selase Tedjame-Mortty','Rankin Tran','Emily Wick']\n",
    "jakelab = ['Francis Attea','Hunter Bash','Yves Bayubahe','Matthew Bederman','Alvyn Berg','Ria Chadha',\n",
    "          'Eyasped Challa','Calvin Forinash','Matthew Gentile','Benjamin Gilby','Oliver Gladys','Miles Hamilton',\n",
    "          'Hannah Harhai','Zachary Hoffman','Charan Deep Kota','Ryan Kusmierz','Olaoluwa Laifa','Radley Lettich',\n",
    "          'Mark Marquez','Pawel Morysewicz','Derek Park','Trever Petersen','Maximillian Phillips','Jonathan Price',\n",
    "          'Samantha Rush','Jayden Serenari','Raied Shoaib','Brady Snyder','Samuel Sweeney','Ethan Whittaker','Roger Zeng']\n",
    "katelynlab = ['Apruvaa Anand','Jack Bellamy','Camden Callahan','Gary Cleric','Chloe Dahan','Teresa Davison',\n",
    "             'Anderis Dobrowolski','Joseph Dynoske','Aaryan Gaikwad','Keyon Hedayati','Daniel Hopping','Nafee Jan',\n",
    "             'Jay Johnson','Humeyra Kacar','Carter Keith','Minhal Khan','Andrew Kistner','Logan Lee',\n",
    "             'Pierce Martin','Elijah Morrison','Jonah Osband','Johnathan Pepling','Asiyah Robinson','Ethan Rubenstein',\n",
    "             'Kyle Saxton','Maeve Song','Helena Steffens','Cristopher Story','Zhen Wu','Kenny Zhang','Yuqing Zhang']\n",
    "nolab = ['Daniel Evans','Samuel Gennett','Diego Jurado','Mae Kling','Dan Li','Ronan Mansour','Leon Pavolotsky',\n",
    "        'Steven Rodgers','Adam Sheelar','Aaron Sutton','Taylor Wilkerson','Yifan Xu','Alexandr Yarashevich']"
   ]
  },
  {
   "cell_type": "markdown",
   "metadata": {},
   "source": [
    "Now, a little function. I call it makegroups becuase that's the job of the function. First, the user passes a group and a number to the function. The funciton then, while there are items in the list, makes a random group of the size entered, then "
   ]
  },
  {
   "cell_type": "code",
   "execution_count": 4,
   "metadata": {},
   "outputs": [],
   "source": [
    "def makegroups(classlist, groupsize):\n",
    "    teamnum = 1\n",
    "    while len(classlist)>0:\n",
    "        try:\n",
    "            team = random.sample(classlist,groupsize)\n",
    "            for person in team:\n",
    "                classlist.remove(person)\n",
    "            print('Team' + str(teamnum) + ':')\n",
    "            print(team)\n",
    "            teamnum += 1\n",
    "        except:\n",
    "            print('Team' + str(teamnum) + ':')\n",
    "            print(classlist)\n",
    "            classlist = []"
   ]
  },
  {
   "cell_type": "code",
   "execution_count": 5,
   "metadata": {},
   "outputs": [
    {
     "name": "stdout",
     "output_type": "stream",
     "text": [
      "Team1:\n",
      "['Ronan Mansour', 'Daniel Evans', 'Diego Jurado']\n",
      "Team2:\n",
      "['Mae Kling', 'Taylor Wilkerson', 'Yifan Xu']\n",
      "Team3:\n",
      "['Samuel Gennett', 'Adam Sheelar', 'Alexandr Yarashevich']\n",
      "Team4:\n",
      "['Aaron Sutton', 'Dan Li', 'Leon Pavolotsky']\n",
      "Team5:\n",
      "['Steven Rodgers']\n"
     ]
    }
   ],
   "source": [
    "makegroups(nolab,3)"
   ]
  },
  {
   "cell_type": "code",
   "execution_count": null,
   "metadata": {},
   "outputs": [],
   "source": []
  }
 ],
 "metadata": {
  "kernelspec": {
   "display_name": "Python 3",
   "language": "python",
   "name": "python3"
  },
  "language_info": {
   "codemirror_mode": {
    "name": "ipython",
    "version": 3
   },
   "file_extension": ".py",
   "mimetype": "text/x-python",
   "name": "python",
   "nbconvert_exporter": "python",
   "pygments_lexer": "ipython3",
   "version": "3.7.3"
  }
 },
 "nbformat": 4,
 "nbformat_minor": 4
}
