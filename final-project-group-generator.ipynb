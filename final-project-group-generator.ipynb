{
 "cells": [
  {
   "cell_type": "markdown",
   "metadata": {},
   "source": [
    "# Final Project Group Generator\n",
    "\n",
    "In the effort to be fair, nobody gets to pick the groups. Not even the TAs or Instructor! Instead, a little bit of code will make the groups."
   ]
  },
  {
   "cell_type": "code",
   "execution_count": 1,
   "metadata": {},
   "outputs": [],
   "source": [
    "import random"
   ]
  },
  {
   "cell_type": "markdown",
   "metadata": {},
   "source": [
    "First, we import random, then, just so we can repeat the results, we set the seed to some value. For choosing groups for this semester, I used 75012. Give yourself a Schrute Buck if you can figure out what that number is."
   ]
  },
  {
   "cell_type": "code",
   "execution_count": 2,
   "metadata": {},
   "outputs": [],
   "source": [
    "random.seed(75012)"
   ]
  },
  {
   "cell_type": "markdown",
   "metadata": {},
   "source": [
    "From here, I make lists of all the students who reported their lab sections. Then I made a group of the remaning students, for a total of 5 groups."
   ]
  },
  {
   "cell_type": "code",
   "execution_count": 3,
   "metadata": {},
   "outputs": [],
   "source": [
    "alexalab = ['Toluwalase Ahmed','Garrett Barber','William Chapler','Alejandro Ciuba','Kevin Corcoran','Joe Fayad','Robert Fishel',\n",
    "            'Cade Gallagher','Samuel Garthwaite','Richard Goulazian','Samantha Grammer','Anna Heltz','Justin Holt','Ben Hrehocik',\n",
    "            'Noah Kenton','Simon Kioko','Jacob Kopco','Crystal Li','Siliang Lihuang','Julia Livingston','Vivian Ly',\n",
    "            'Daniel Mezhinsky','Pasiphique Osward','Liying Qin','Jeremy Romano','Leigh Salvucci','Bailey Smith','Khailil Tookas',\n",
    "            'Benjamin Truckenbrod','LeAndre Washington','Carson White','Tian Xie','Lily Young','Xingjian Zhang']\n",
    "benlab = ['Heath Arroyo','Suchi Attota','Justin Booth','Isaac Bredbenner','Dominic Campese','William Crew','Vansh Desai',\n",
    "         'Alexis DiNardo','Matthew Dodson','Jessica Flynn','Kevin Fung','Jamir Grier','Gaige Hailey','Michael Harouse',\n",
    "         'Jacob Hill','Steven Jarmell','Andrea Jiang','Griffin Jordan','Mae Kling','Kameron Langford','Evan Marnik','Ben Mast',\n",
    "         'Praj Perez','Jon Riklan','Matthew Ross','Michael Schafer','Connor Sibley','Trevor Silverman','Elizabeth Taylor',\n",
    "         'Selase Tedjame-Mortty','Rankin Tran','Emily Wick']\n",
    "jakelab = ['Francis Attea','Hunter Bash','Yves Bayubahe','Matthew Bederman','Alvyn Berg','Ria Chadha',\n",
    "          'Eyasped Challa','Calvin Forinash','Matthew Gentile','Benjamin Gilby','Oliver Gladys','Miles Hamilton',\n",
    "          'Hannah Harhai','Zachary Hoffman','Charan Deep Kota','Ryan Kusmierz','Olaoluwa Laifa','Radley Lettich',\n",
    "          'Mark Marquez','Pawel Morysewicz','Derek Park','Trevor Petersen','Maximillian Phillips','Jonathan Price',\n",
    "          'Samantha Rush','Jayden Serenari','Raied Shoaib','Brady Snyder','Samuel Sweeney','Ethan Whittaker','Roger Zeng']\n",
    "katelynlab = ['Apruvaa Anand','Jack Bellamy','Camden Callahan','Gary Cleric','Chloe Dahan','Teresa Davison',\n",
    "             'Anderis Dobrowolski','Joseph Dynoske','Aaryan Gaikwad','Keyon Hedayati','Daniel Hopping','Nafee Jan',\n",
    "             'Jay Johnson','Humeyra Kacar','Carter Keith','Minhal Khan','Andrew Kistner','Logan Lee',\n",
    "             'Pierce Martin','Elijah Morrison','Jonah Osband','Johnathan Pepling','Asiyah Robinson','Ethan Rubenstein',\n",
    "             'Kyle Saxton','Maeve Song','Helena Steffens','Cristopher Story','Zhen Wu','Kenny Zhang','Yuqing Zhang']\n",
    "nolab = ['Daniel Evans','Samuel Gennett','Diego Jurado','Dan Li','Ronan Mansour','Leon Pavolotsky',\n",
    "        'Steven Rodgers','Adam Sheelar','Aaron Sutton','Taylor Wilkerson','Yifan Xu','Alexandr Yarashevich']"
   ]
  },
  {
   "cell_type": "markdown",
   "metadata": {},
   "source": [
    "Now, a little function. I call it makegroups becuase that's the job of the function. First, the user passes a group and a number to the function. The funciton then, while there are items in the list, makes a random group of the size entered, then removes the members of that team from the class list. This process then repeats until there are not enough people to make a team of the desired group size. At that point, the remaining people in the classlist are put into a team."
   ]
  },
  {
   "cell_type": "code",
   "execution_count": 4,
   "metadata": {},
   "outputs": [],
   "source": [
    "def makegroups(classlist, groupsize):\n",
    "    teamnum = 1\n",
    "    while len(classlist)>0:\n",
    "        try:\n",
    "            team = random.sample(classlist,groupsize)\n",
    "            for person in team:\n",
    "                classlist.remove(person)\n",
    "            print('Team ' + str(teamnum) + ':')\n",
    "            print(team)\n",
    "            teamnum += 1\n",
    "        except:\n",
    "            print('Team ' + str(teamnum) + ':')\n",
    "            print(classlist)\n",
    "            classlist = []"
   ]
  },
  {
   "cell_type": "markdown",
   "metadata": {},
   "source": [
    "---\n",
    "\n",
    "now we can put the function and the lab lists together!\n",
    "\n",
    "\n",
    "## Groups \n",
    "\n",
    "### Alexa's Lab (Thurs 11:05)"
   ]
  },
  {
   "cell_type": "code",
   "execution_count": 5,
   "metadata": {},
   "outputs": [
    {
     "name": "stdout",
     "output_type": "stream",
     "text": [
      "Team 1:\n",
      "['Liying Qin', 'Garrett Barber', 'Samuel Garthwaite']\n",
      "Team 2:\n",
      "['Kevin Corcoran', 'Crystal Li', 'Vivian Ly']\n",
      "Team 3:\n",
      "['Xingjian Zhang', 'Pasiphique Osward', 'Julia Livingston']\n",
      "Team 4:\n",
      "['William Chapler', 'Khailil Tookas', 'Tian Xie']\n",
      "Team 5:\n",
      "['Leigh Salvucci', 'Daniel Mezhinsky', 'Richard Goulazian']\n",
      "Team 6:\n",
      "['Jacob Kopco', 'Samantha Grammer', 'Ben Hrehocik']\n",
      "Team 7:\n",
      "['Jeremy Romano', 'Robert Fishel', 'Anna Heltz']\n",
      "Team 8:\n",
      "['Alejandro Ciuba', 'Bailey Smith', 'Carson White']\n",
      "Team 9:\n",
      "['Justin Holt', 'Siliang Lihuang', 'Simon Kioko']\n",
      "Team 10:\n",
      "['Benjamin Truckenbrod', 'Joe Fayad', 'Toluwalase Ahmed']\n",
      "Team 11:\n",
      "['Noah Kenton', 'Cade Gallagher', 'LeAndre Washington']\n",
      "Team 12:\n",
      "['Lily Young']\n"
     ]
    }
   ],
   "source": [
    "makegroups(alexalab,3)"
   ]
  },
  {
   "cell_type": "markdown",
   "metadata": {},
   "source": [
    "Here we have Team 12 that has only 1 person! We don't want that, so Team 11 and Team 12 will be combined into a 4 person group\n",
    "\n",
    "---\n",
    "\n",
    "\n",
    "### Ben's Lab (Fri 11:05)"
   ]
  },
  {
   "cell_type": "code",
   "execution_count": 6,
   "metadata": {},
   "outputs": [
    {
     "name": "stdout",
     "output_type": "stream",
     "text": [
      "Team 1:\n",
      "['Jon Riklan', 'Matthew Ross', 'Suchi Attota']\n",
      "Team 2:\n",
      "['Michael Schafer', 'Michael Harouse', 'Griffin Jordan']\n",
      "Team 3:\n",
      "['Vansh Desai', 'Emily Wick', 'Heath Arroyo']\n",
      "Team 4:\n",
      "['Evan Marnik', 'Alexis DiNardo', 'Ben Mast']\n",
      "Team 5:\n",
      "['Jamir Grier', 'Mae Kling', 'Rankin Tran']\n",
      "Team 6:\n",
      "['Kevin Fung', 'Isaac Bredbenner', 'Justin Booth']\n",
      "Team 7:\n",
      "['Elizabeth Taylor', 'Selase Tedjame-Mortty', 'Trevor Silverman']\n",
      "Team 8:\n",
      "['William Crew', 'Praj Perez', 'Dominic Campese']\n",
      "Team 9:\n",
      "['Andrea Jiang', 'Jessica Flynn', 'Matthew Dodson']\n",
      "Team 10:\n",
      "['Connor Sibley', 'Steven Jarmell', 'Gaige Hailey']\n",
      "Team 11:\n",
      "['Jacob Hill', 'Kameron Langford']\n"
     ]
    }
   ],
   "source": [
    "makegroups(benlab,3)"
   ]
  },
  {
   "cell_type": "markdown",
   "metadata": {},
   "source": [
    "---\n",
    "\n",
    "### Jake's Lab (Thurs 8:55)"
   ]
  },
  {
   "cell_type": "code",
   "execution_count": 7,
   "metadata": {},
   "outputs": [
    {
     "name": "stdout",
     "output_type": "stream",
     "text": [
      "Team 1:\n",
      "['Raied Shoaib', 'Francis Attea', 'Yves Bayubahe']\n",
      "Team 2:\n",
      "['Olaoluwa Laifa', 'Matthew Bederman', 'Calvin Forinash']\n",
      "Team 3:\n",
      "['Derek Park', 'Benjamin Gilby', 'Trevor Petersen']\n",
      "Team 4:\n",
      "['Jonathan Price', 'Mark Marquez', 'Eyasped Challa']\n",
      "Team 5:\n",
      "['Samantha Rush', 'Jayden Serenari', 'Ryan Kusmierz']\n",
      "Team 6:\n",
      "['Samuel Sweeney', 'Roger Zeng', 'Matthew Gentile']\n",
      "Team 7:\n",
      "['Brady Snyder', 'Hannah Harhai', 'Miles Hamilton']\n",
      "Team 8:\n",
      "['Oliver Gladys', 'Radley Lettich', 'Alvyn Berg']\n",
      "Team 9:\n",
      "['Zachary Hoffman', 'Ethan Whittaker', 'Charan Deep Kota']\n",
      "Team 10:\n",
      "['Hunter Bash', 'Ria Chadha', 'Pawel Morysewicz']\n",
      "Team 11:\n",
      "['Maximillian Phillips']\n"
     ]
    }
   ],
   "source": [
    "makegroups(jakelab,3)"
   ]
  },
  {
   "cell_type": "markdown",
   "metadata": {},
   "source": [
    "Here we have Team 11 that has only 1 person! We don't want that, so Team 10 and Team 11 will be combined into a 4 person group\n",
    "\n",
    "---\n",
    "\n",
    "### Katelyn's Lab (Fri 8:55)"
   ]
  },
  {
   "cell_type": "code",
   "execution_count": 8,
   "metadata": {},
   "outputs": [
    {
     "name": "stdout",
     "output_type": "stream",
     "text": [
      "Team 1:\n",
      "['Carter Keith', 'Camden Callahan', 'Andrew Kistner']\n",
      "Team 2:\n",
      "['Gary Cleric', 'Ethan Rubenstein', 'Teresa Davison']\n",
      "Team 3:\n",
      "['Johnathan Pepling', 'Jay Johnson', 'Joseph Dynoske']\n",
      "Team 4:\n",
      "['Maeve Song', 'Jonah Osband', 'Humeyra Kacar']\n",
      "Team 5:\n",
      "['Asiyah Robinson', 'Cristopher Story', 'Chloe Dahan']\n",
      "Team 6:\n",
      "['Pierce Martin', 'Logan Lee', 'Elijah Morrison']\n",
      "Team 7:\n",
      "['Keyon Hedayati', 'Zhen Wu', 'Minhal Khan']\n",
      "Team 8:\n",
      "['Aaryan Gaikwad', 'Daniel Hopping', 'Kyle Saxton']\n",
      "Team 9:\n",
      "['Jack Bellamy', 'Helena Steffens', 'Apruvaa Anand']\n",
      "Team 10:\n",
      "['Nafee Jan', 'Anderis Dobrowolski', 'Yuqing Zhang']\n",
      "Team 11:\n",
      "['Kenny Zhang']\n"
     ]
    }
   ],
   "source": [
    "makegroups(katelynlab,3)"
   ]
  },
  {
   "cell_type": "markdown",
   "metadata": {},
   "source": [
    "Here we have Team 11 that has only 1 person! We don't want that, so Team 10 and Team 11 will be combined into a 4 person group\n",
    "\n",
    "---\n",
    "\n",
    "### The Remaining people"
   ]
  },
  {
   "cell_type": "code",
   "execution_count": 9,
   "metadata": {},
   "outputs": [
    {
     "name": "stdout",
     "output_type": "stream",
     "text": [
      "Team 1:\n",
      "['Taylor Wilkerson', 'Daniel Evans', 'Leon Pavolotsky']\n",
      "Team 2:\n",
      "['Alexandr Yarashevich', 'Diego Jurado', 'Yifan Xu']\n",
      "Team 3:\n",
      "['Aaron Sutton', 'Steven Rodgers', 'Ronan Mansour']\n",
      "Team 4:\n",
      "['Dan Li', 'Samuel Gennett', 'Adam Sheelar']\n"
     ]
    }
   ],
   "source": [
    "makegroups(nolab,3)"
   ]
  },
  {
   "cell_type": "markdown",
   "metadata": {},
   "source": [
    "---\n",
    "\n",
    "Now that all of the Teams have been made, may the odds be ever in your favor and good luck on the final project!"
   ]
  }
 ],
 "metadata": {
  "kernelspec": {
   "display_name": "Python 3",
   "language": "python",
   "name": "python3"
  },
  "language_info": {
   "codemirror_mode": {
    "name": "ipython",
    "version": 3
   },
   "file_extension": ".py",
   "mimetype": "text/x-python",
   "name": "python",
   "nbconvert_exporter": "python",
   "pygments_lexer": "ipython3",
   "version": "3.7.3"
  }
 },
 "nbformat": 4,
 "nbformat_minor": 4
}
