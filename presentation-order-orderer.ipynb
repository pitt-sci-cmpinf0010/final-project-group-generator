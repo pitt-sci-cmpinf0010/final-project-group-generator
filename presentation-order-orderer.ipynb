{
 "cells": [
  {
   "cell_type": "markdown",
   "metadata": {},
   "source": [
    "# Presentation Order Orderer\n",
    "\n",
    "## This Week's Adgenda:\n",
    "\n",
    "  1. pick presentation order\n",
    "  2. Check in\n",
    "  3. presentation expectations\n",
    "  4. have fun"
   ]
  },
  {
   "cell_type": "code",
   "execution_count": null,
   "metadata": {},
   "outputs": [],
   "source": [
    "import pandas as pd\n",
    "import numpy as np\n",
    "import random"
   ]
  },
  {
   "cell_type": "markdown",
   "metadata": {},
   "source": [
    "As discovered by science, the number of times we should shuffle a deck of cards is 7 to make it as random as its possible to be:\n",
    "https://www.nytimes.com/1990/01/09/science/in-shuffling-cards-7-is-winning-number.html#:~:targetText=The%20usual%20shuffling%20produces%20a,improve%20their%20odds%20of%20winning."
   ]
  },
  {
   "cell_type": "code",
   "execution_count": null,
   "metadata": {},
   "outputs": [],
   "source": [
    "lista = [1, 2, 3, 4, 5, 6, 7, 8, 9, 10, 11,12] #0th shuffle\n",
    "listb = lista\n",
    "random.shuffle(lista) #1th shuffle\n",
    "random.shuffle(lista) #2th shuffle\n",
    "random.shuffle(lista) #3th shuffle\n",
    "random.shuffle(lista) #4th shuffle\n",
    "random.shuffle(lista) #5th shuffle\n",
    "random.shuffle(lista) #6th shuffle\n",
    "random.shuffle(lista) #7th shuffle\n",
    "\n",
    "print(\"The first method of randomizing produces:\")\n",
    "print(lista)\n",
    "\n",
    "# we could also do this with a loop......\n",
    "i=0\n",
    "while (i < 7):\n",
    "    random.shuffle(listb)\n",
    "    i+=1\n",
    "print(\"The second method of randomizing produces:\")\n",
    "print(listb)"
   ]
  },
  {
   "cell_type": "markdown",
   "metadata": {},
   "source": [
    "However, this is just the *python* way of finding a random order.  We've actually covered another way to create a random list, and we used it at some point in class...."
   ]
  },
  {
   "cell_type": "code",
   "execution_count": null,
   "metadata": {
    "scrolled": true
   },
   "outputs": [],
   "source": [
    "listc = [1, 2, 3, 4, 5, 6, 7, 8, 9, 10, 11,12] #0th shuffle\n",
    "listd = listc\n",
    "dfc = pd.DataFrame( listc )\n",
    "dfd = pd.DataFrame( listd )\n",
    "\n",
    "print(\"we can over-engineer the path to a random list as well!\")\n",
    "dfc = dfc.sample(len(dfc)).sample(len(dfc)).sample(len(dfc)).sample(len(dfc)).sample(len(dfc)).sample(len(dfc)).sample(len(dfc))\n",
    "\n",
    "i=0\n",
    "while(i<7):\n",
    "    dfd = dfd.sample(len(dfd))\n",
    "    i+=1\n"
   ]
  },
  {
   "cell_type": "code",
   "execution_count": null,
   "metadata": {},
   "outputs": [],
   "source": [
    "print(\"The third method of randomizing produces\")\n",
    "dfc.head(len(dfc))"
   ]
  },
  {
   "cell_type": "code",
   "execution_count": null,
   "metadata": {},
   "outputs": [],
   "source": [
    "print(\"The fourth method of randomizing produces:\")\n",
    "dfd.head(len(dfd))"
   ]
  },
  {
   "cell_type": "code",
   "execution_count": null,
   "metadata": {},
   "outputs": [],
   "source": []
  }
 ],
 "metadata": {
  "kernelspec": {
   "display_name": "Python 3",
   "language": "python",
   "name": "python3"
  },
  "language_info": {
   "codemirror_mode": {
    "name": "ipython",
    "version": 3
   },
   "file_extension": ".py",
   "mimetype": "text/x-python",
   "name": "python",
   "nbconvert_exporter": "python",
   "pygments_lexer": "ipython3",
   "version": "3.7.3"
  }
 },
 "nbformat": 4,
 "nbformat_minor": 4
}
